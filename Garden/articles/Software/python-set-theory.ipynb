{
 "cells": [
  {
   "cell_type": "markdown",
   "metadata": {},
   "source": [
    "The Python programming language has a nice declarative syntax for data\n",
    "sructures known as *comprehensions*. They provide a quick, concise way to set up lists, sets, generators and dictionaries.\n",
    "\n",
    "### List comprehensions\n",
    "\n",
    "So, for example, we can quickly create a list of square numbers:"
   ]
  },
  {
   "cell_type": "code",
   "execution_count": 1,
   "metadata": {},
   "outputs": [
    {
     "name": "stdout",
     "output_type": "stream",
     "text": [
      "[1, 4, 9, 16, 25, 36, 49, 64, 81, 100]\n"
     ]
    }
   ],
   "source": [
    "squares = [n * n for n in range(1, 11)]\n",
    "print(squares)"
   ]
  },
  {
   "cell_type": "markdown",
   "metadata": {},
   "source": [
    "Compare this with an imperative approach as is required in many other languages:"
   ]
  },
  {
   "cell_type": "code",
   "execution_count": 2,
   "metadata": {},
   "outputs": [
    {
     "name": "stdout",
     "output_type": "stream",
     "text": [
      "[1, 4, 9, 16, 25, 36, 49, 64, 81, 100]\n"
     ]
    }
   ],
   "source": [
    "squares = []\n",
    "for n in range(1, 11):\n",
    "    squares.append(n * n)\n",
    "print(squares)"
   ]
  },
  {
   "cell_type": "markdown",
   "metadata": {},
   "source": [
    "This is perhaps only a little more verbose, but the difference is even greater once we introduce conditions:"
   ]
  },
  {
   "cell_type": "code",
   "execution_count": 3,
   "metadata": {},
   "outputs": [
    {
     "name": "stdout",
     "output_type": "stream",
     "text": [
      "[4, 16, 36, 64, 100]\n"
     ]
    }
   ],
   "source": [
    "even_squares = [\n",
    "    n * n for n in range(1, 11) if n % 2 == 0\n",
    "]\n",
    "print(even_squares)"
   ]
  },
  {
   "cell_type": "markdown",
   "metadata": {},
   "source": [
    "Compared to:"
   ]
  },
  {
   "cell_type": "code",
   "execution_count": 4,
   "metadata": {},
   "outputs": [
    {
     "name": "stdout",
     "output_type": "stream",
     "text": [
      "[4, 16, 36, 64, 100]\n"
     ]
    }
   ],
   "source": [
    "even_squares = []\n",
    "for n in range(1, 11):\n",
    "    if n % 2 == 0:\n",
    "        even_squares.append(n * n)\n",
    "print(even_squares)"
   ]
  },
  {
   "cell_type": "markdown",
   "metadata": {},
   "source": [
    "But the real expressivity comes from the fact that a single-expression syntax can be used anonymously without the need to declare a variable at all:"
   ]
  },
  {
   "cell_type": "code",
   "execution_count": 5,
   "metadata": {},
   "outputs": [
    {
     "data": {
      "text/plain": [
       "[4, 16, 36, 64, 100]"
      ]
     },
     "execution_count": 5,
     "metadata": {},
     "output_type": "execute_result"
    }
   ],
   "source": [
    "[n * n for n in range(1, 11) if n % 2 == 0]"
   ]
  },
  {
   "cell_type": "markdown",
   "metadata": {},
   "source": [
    "### Other comprehensions\n",
    "\n",
    "Additionally, comprehensions go beyond lists as we can do similar for generators, dictionaries and sets. See if you can understand what these data structures are:"
   ]
  },
  {
   "cell_type": "code",
   "execution_count": 6,
   "metadata": {},
   "outputs": [
    {
     "data": {
      "text/plain": [
       "{'A': 0, 'B': 1, 'C': 2, 'D': 3, 'E': 4, 'F': 5}"
      ]
     },
     "execution_count": 6,
     "metadata": {},
     "output_type": "execute_result"
    }
   ],
   "source": [
    "import string\n",
    "\n",
    "{string.ascii_uppercase[n]: n for n in range(0,6)}"
   ]
  },
  {
   "cell_type": "code",
   "execution_count": 7,
   "metadata": {},
   "outputs": [
    {
     "data": {
      "text/plain": [
       "{'e', 'h', 'n', 'o', 'p', 'r', 's', 't', 'y'}"
      ]
     },
     "execution_count": 7,
     "metadata": {},
     "output_type": "execute_result"
    }
   ],
   "source": [
    "# set of unique letters in sentence\n",
    "{letter for letter in 'python' + 'set' + 'theory'}"
   ]
  },
  {
   "cell_type": "code",
   "execution_count": 8,
   "metadata": {},
   "outputs": [
    {
     "name": "stdout",
     "output_type": "stream",
     "text": [
      "0\n",
      "1\n",
      "4\n",
      "9\n"
     ]
    }
   ],
   "source": [
    "from itertools import count, takewhile\n",
    "\n",
    "# Creates infinite list of squares\n",
    "square_generator = (n * n for n in count())\n",
    "# Print out the first four\n",
    "print(next(square_generator))\n",
    "print(next(square_generator))\n",
    "print(next(square_generator))\n",
    "print(next(square_generator))"
   ]
  },
  {
   "cell_type": "markdown",
   "metadata": {},
   "source": [
    "There are many blog posts out there on how to use comprehensions in different contexts, but here I want to focus on one of my favourite applications: working with applications of [set theory](https://en.wikipedia.org/wiki/Set_theory). \n",
    "\n",
    "### Set theory and Python comprehensions\n",
    "\n",
    "In mathematics, one might describe a basic set of six numbers as:\n",
    "\n",
    "\\begin{equation*}\n",
    "A = \\{1, 2, 3, 4, 5, 6\\}\n",
    "\\end{equation*}\n",
    "\n",
    "And Python's set comprehension nicely happens to be identical here:"
   ]
  },
  {
   "cell_type": "code",
   "execution_count": 9,
   "metadata": {},
   "outputs": [
    {
     "name": "stdout",
     "output_type": "stream",
     "text": [
      "{1, 2, 3, 4, 5, 6}\n"
     ]
    }
   ],
   "source": [
    "A = {1, 2, 3, 4, 5, 6}\n",
    "print(A)"
   ]
  },
  {
   "cell_type": "markdown",
   "metadata": {},
   "source": [
    "In mathematics, we might describe subset of all the even numbers in $A$ as:\n",
    "\n",
    "\\begin{equation*}\n",
    "B = \\{n \\in A \\: | \\: even(n) \\} \n",
    "\\end{equation*}"
   ]
  },
  {
   "cell_type": "markdown",
   "metadata": {},
   "source": [
    "And in Python this becomes:"
   ]
  },
  {
   "cell_type": "code",
   "execution_count": 10,
   "metadata": {},
   "outputs": [
    {
     "name": "stdout",
     "output_type": "stream",
     "text": [
      "{2, 4, 6}\n"
     ]
    }
   ],
   "source": [
    "even = lambda x: x % 2 == 0\n",
    "\n",
    "B = {n for n in A if even(n)}\n",
    "print(B)"
   ]
  },
  {
   "cell_type": "markdown",
   "metadata": {},
   "source": [
    "It should be clear that there is a nice one-to-one correspondence between `n for n in` and $\\in$ here. Additionally, the vertical bar `|` corresponds to the `if` within the comprehension. This makes it pretty easy to transliterate mathematical expressions directly into Python code with simple syntax mappings.\n",
    "\n",
    "More imperitive languages such as C, Java or JavaScript would need a bit more step-by-step code just to *create* such mathematical objects, adding some overhead on top of code that actually then works with those objects.\n",
    "\n",
    "I personally like the simple correspondence as implementing mathematical concepts become easier. I have found this useful for rapidly prototying ideas from academic papers.\n",
    "\n",
    "This is especially powerful when working with practical data structures that follow set-theoretic principles, such as RDF graphs. I will cover this in more depth in future articles, but for now I can give one simpler example where I have applied this.\n",
    "\n",
    "### How might we actually apply this?\n",
    "\n",
    "An example of where this can be applied is in synchronising users (or other data) between two systems. Imagine we have a directory of users (e.g. LDAP or Active Directory) that we want to keep in sync with a user database behind another system in your organisation such as a directory lookup application. In our organisation a user record is only made up of a first name and the department they work in:"
   ]
  },
  {
   "cell_type": "code",
   "execution_count": 11,
   "metadata": {},
   "outputs": [],
   "source": [
    "from collections import namedtuple\n",
    "\n",
    "User = namedtuple('User', ['name', 'department'])"
   ]
  },
  {
   "cell_type": "markdown",
   "metadata": {},
   "source": [
    "We might also have some code that can query the lists of users in each system which we can stub out here for for illustrative purposes:"
   ]
  },
  {
   "cell_type": "code",
   "execution_count": 12,
   "metadata": {},
   "outputs": [],
   "source": [
    "def get_users_from_directory():\n",
    "    return [\n",
    "        User(name='Alice', department='R&D'),\n",
    "        User(name='Bob', department='HR'),\n",
    "        User(name='Clare', department='Sales'),\n",
    "    ]\n",
    "\n",
    "def get_users_from_lookup_service():\n",
    "    return [\n",
    "        User(name='Bob', department='HR'),\n",
    "        User(name='Clare', department='HR'),\n",
    "        User(name='David', department='IT'),\n",
    "    ]"
   ]
  },
  {
   "cell_type": "markdown",
   "metadata": {},
   "source": [
    "Note how in this example we are simulating three situations: firstly, Alice is new to the organisation and is yet to be synced to the lookup service. Secondly, Clare has recently moved from Sales to HR. Thirdly, David used to work in the IT department but has left the organisation since these systems were last synchronised.\n",
    "\n",
    "If we are using Python and comprehensions, we can use sets and set-theoretic operations as part of our synchronisation:"
   ]
  },
  {
   "cell_type": "code",
   "execution_count": 13,
   "metadata": {},
   "outputs": [
    {
     "name": "stdout",
     "output_type": "stream",
     "text": [
      "{User(name='David', department='IT'), User(name='Clare', department='HR'), User(name='Alice', department='R&D'), User(name='Clare', department='Sales')}\n"
     ]
    }
   ],
   "source": [
    "synced_users = {\n",
    "    user for user in get_users_from_lookup_service()\n",
    "}\n",
    "actual_users = {\n",
    "    user for user in get_users_from_directory()\n",
    "}\n",
    "\n",
    "discrepancies = synced_users ^ actual_users\n",
    "print(discrepancies)"
   ]
  },
  {
   "cell_type": "markdown",
   "metadata": {},
   "source": [
    "So, what's happened here? We've declared two sets: `synced_users` is the set of user profiles that are currently in our target lookup service and `actual_users` is the authoritative set of users that are actually employed in our organisation.\n",
    "\n",
    "We can then do a symmetric difference (aka an `XOR` operation) to get a list of user profiles that are missing, need to be moved or are otherwise out of sync.\n",
    "\n",
    "Finally, we just need to loop through the discrepancies and process each as appropriate:"
   ]
  },
  {
   "cell_type": "code",
   "execution_count": 14,
   "metadata": {},
   "outputs": [
    {
     "name": "stdout",
     "output_type": "stream",
     "text": [
      "Removing: User(name='David', department='IT')\n",
      "Removing: User(name='Clare', department='HR')\n",
      "Adding:   User(name='Alice', department='R&D')\n",
      "Adding:   User(name='Clare', department='Sales')\n"
     ]
    }
   ],
   "source": [
    "def remove_user_from_loop_service(user):\n",
    "    print('Removing: {}'.format(user))\n",
    "\n",
    "def add_user_to_loop_service(user):\n",
    "    print('Adding:   {}'.format(user))\n",
    "\n",
    "for user in discrepancies:\n",
    "    if user in synced_users:\n",
    "        remove_user_from_loop_service(user)\n",
    "    if user in actual_users:\n",
    "        add_user_to_loop_service(user)"
   ]
  },
  {
   "cell_type": "markdown",
   "metadata": {},
   "source": [
    "So, in a small amount of (hopefully) readable code, we can do a basic bidirectional sync between two systems. This simple approach makes the assumption that it is ok to remove and re-add Clare as she has moved departments. This might not be appropriate for all cases and in some implementations of this I have explicitly looked for the same user appearing twice in the `discrepancies` set to process them differently to new or removed users.\n",
    "\n",
    "Python has a reputation as an expressive and concise language and I think that comprehensions go a long way to drive that. The fact that I can transcribe mathematical expressions directly into the language is both useful for me but also shows how small bits of declarative syntax -- in a language that is relatively imperative in other ways -- can really create clear, readable code without lots of distracting noise around it."
   ]
  }
 ],
 "metadata": {
  "Category": "Software",
  "Date": "2018-03-26",
  "Status": "published",
  "Title": "Python and Set Theory",
  "kernelspec": {
   "display_name": "Python 3",
   "language": "python",
   "name": "python3"
  },
  "language_info": {
   "codemirror_mode": {
    "name": "ipython",
    "version": 3
   },
   "file_extension": ".py",
   "mimetype": "text/x-python",
   "name": "python",
   "nbconvert_exporter": "python",
   "pygments_lexer": "ipython3",
   "version": "3.7.3"
  }
 },
 "nbformat": 4,
 "nbformat_minor": 2
}
