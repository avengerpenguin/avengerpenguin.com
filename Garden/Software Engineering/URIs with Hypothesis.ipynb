{
 "cells": [
  {
   "cell_type": "code",
   "execution_count": 1,
   "metadata": {},
   "outputs": [],
   "source": [
    "from urllib import parse as urlparse\n",
    "\n",
    "url1 = 'http://example.com/foo'\n",
    "url2 = urlparse.urljoin(url1, '/bar')\n",
    "print(url2)"
   ]
  },
  {
   "cell_type": "code",
   "execution_count": 2,
   "metadata": {},
   "outputs": [],
   "source": [
    "import string\n",
    "from hypothesis.strategies import (\n",
    "    composite, tuples, text, integers, one_of, lists, sampled_from, just\n",
    ")\n",
    "\n",
    "@composite\n",
    "def schemes(draw):\n",
    "    first = draw(sampled_from(string.ascii_letters))\n",
    "    rest = draw(text(alphabet=string.ascii_letters + string.digits + '+.-'))\n",
    "    return first + rest\n",
    "\n",
    "ipv4_addresses = tuples(\n",
    "    integers(min_value=0,max_value=255).map(str),\n",
    "    integers(min_value=0,max_value=255).map(str),\n",
    "    integers(min_value=0,max_value=255).map(str),\n",
    "    integers(min_value=0,max_value=255).map(str),\n",
    "    ).map(lambda x: '.'.join(x))\n",
    "\n",
    "iunreserveds = text(alphabet=string.ascii_letters + string.digits + '-._~')\n",
    "pct_encodeds = text(\n",
    "    alphabet=string.digits + 'ABCDEFabcdef', min_size=2, max_size=2\n",
    ").map(lambda x: '%' + x)\n",
    "\n",
    "ireg_names = lists(one_of(\n",
    "    iunreserveds,\n",
    "    pct_encodeds,\n",
    "    )).map(''.join)\n",
    "\n",
    "iauthorities = one_of(\n",
    "    ipv4_addresses,\n",
    "    ireg_names,\n",
    ")\n",
    "\n",
    "sub_delims = text(alphabet=\"!$&'()*+,;=\")\n",
    "pchar = one_of(iunreserveds, pct_encodeds, sub_delims, just(\":\"), just(\"@\"))\n",
    "pchar_nc = one_of(iunreserveds, pct_encodeds, sub_delims, just(\"@\"))\n",
    "\n",
    "segment_nz_nc = lists(pchar_nc, min_size=1).map(''.join)\n",
    "segment_nz = lists(pchar, min_size=1).map(''.join)\n",
    "segment = lists(pchar, min_size=0).map(''.join)\n",
    "\n",
    "paths = one_of(\n",
    "    just(\"\"),\n",
    "    lists(segment.map(lambda s: \"/\" + s)).map(\"\".join),\n",
    "    segment_nz.flatmap(\n",
    "        lambda s0: lists(segment.map(lambda sn: \"/\" + sn)).map(\"\".join).map(lambda ss: s0 + ss)\n",
    "    ),\n",
    "    segment_nz_nc.flatmap(\n",
    "        lambda s0: lists(segment.map(lambda sn: \"/\" + sn)).map(\"\".join).map(lambda ss: s0 + ss)\n",
    "    ),\n",
    ")\n",
    "\n",
    "@composite\n",
    "def iris(draw):\n",
    "    parts = {\n",
    "        'scheme': draw(schemes()),\n",
    "        'authority': draw(iauthorities),\n",
    "        'path': draw(paths.filter(lambda p: p.startswith(\"/\"))),\n",
    "    }\n",
    "    return rfc3987.compose(**parts)"
   ]
  },
  {
   "cell_type": "code",
   "execution_count": 3,
   "metadata": {},
   "outputs": [
    {
     "name": "stdout",
     "output_type": "stream",
     "text": [
      "gFUXi7://58.82.92.6//\n",
      "h8vPS+73-hLEIxV+FUXi7://58.82.92.6//-2f@/@:@!+!''%ad@%8F@Ft//@\n",
      "a://0.0.0.0/\n",
      "x+b://213.83.45.23///////:%2c:~ntc%A5)/@%A8\n",
      "a://0.0.0.0/\n",
      "b162://1.0.1.7/\n",
      "s:////%7b%e6@hu9;),&*++*&,)=*%63nxd0XJk:%09\n",
      "h8vPS+73-hLEIxV+FUXi7://58.82.92.6/\n",
      "h8vPS+73-hLEIxV+FUXi7://58.82.92.6//-2f@/@:@!+!''\n",
      "h://58.82.92.6//\n"
     ]
    }
   ],
   "source": [
    "import rfc3987\n",
    "from hypothesis import given\n",
    "\n",
    "@given(paths.filter(lambda p: p.startswith(\"/\")))\n",
    "def test_path_generation(path):\n",
    "    iri = rfc3987.compose(\n",
    "        scheme=\"http\",\n",
    "        authority=\"avengerpenguin.com\",\n",
    "        path=path\n",
    "    )\n",
    "    print(iri)\n",
    "    assert rfc3987.match(iri, rule='IRI')\n",
    "\n",
    "generated_iris = []\n",
    "    \n",
    "@given(iris())\n",
    "def test_iri_generation(iri):\n",
    "    assert rfc3987.match(iri, rule='IRI')\n",
    "    generated_iris.append(iri)\n",
    "    \n",
    "test_iri_generation()\n",
    "import random, json\n",
    "for iri in random.sample(generated_iris, 10):\n",
    "    print(iri)"
   ]
  },
  {
   "cell_type": "markdown",
   "metadata": {},
   "source": [
    "See https://tools.ietf.org/html/rfc1034#section-3.1"
   ]
  },
  {
   "cell_type": "code",
   "execution_count": 4,
   "metadata": {
    "scrolled": true
   },
   "outputs": [
    {
     "name": "stdout",
     "output_type": "stream",
     "text": [
      "Falsifying example: test_domain_generation(\n",
      "    domain='A----------00000000000000000000000000000000000000000000000000000',\n",
      ")\n",
      "\n"
     ]
    }
   ],
   "source": [
    "let = text(alphabet=string.ascii_letters, min_size=1)\n",
    "let_dig = text(alphabet=string.ascii_letters + string.digits, min_size=1)\n",
    "let_dig_hyp = one_of(let_dig, just(\"-\"))\n",
    "subdomains = let.flatmap(\n",
    "    lambda initial: let_dig.flatmap(\n",
    "        lambda end: lists(let_dig_hyp).map(\"\".join).map(lambda middle: initial + middle + end)\n",
    "    )\n",
    ")\n",
    "\n",
    "domains = lists(subdomains, min_size=1).map(\".\".join)\n",
    "\n",
    "import re\n",
    "\n",
    "@given(domains)\n",
    "def test_domain_generation(domain):\n",
    "    assert re.match(\n",
    "        '^(?:[A-Za-z0-9](?:[A-Za-z0-9-]{0,61}[A-Za-z0-9])?\\.)*[A-Za-z0-9][A-Za-z0-9-]{0,61}[A-Za-z0-9]$',\n",
    "        domain\n",
    "    )\n",
    "\n",
    "try:\n",
    "    test_domain_generation()\n",
    "except AssertionError as e:\n",
    "    print(e)"
   ]
  },
  {
   "cell_type": "code",
   "execution_count": 6,
   "metadata": {},
   "outputs": [],
   "source": [
    "subdomains_max = subdomains.filter(lambda s: 1 <= len(s) <= 63)\n",
    "domains_max = lists(subdomains_max, min_size=1).map(\".\".join).filter(lambda s: 1 <= len(s) <= 255)\n",
    "\n",
    "import re\n",
    "\n",
    "@given(domains_max)\n",
    "def test_limited_domain_generation(domain):\n",
    "    assert re.match(\n",
    "        '^(?:[A-Za-z0-9](?:[A-Za-z0-9-]{0,61}[A-Za-z0-9])?\\.)*[A-Za-z0-9][A-Za-z0-9-]{0,61}[A-Za-z0-9]$',\n",
    "        domain\n",
    "    )\n",
    "\n",
    "# @composite\n",
    "# def urls(draw):\n",
    "#     parts = {\n",
    "#         'scheme': draw(one_of(just(\"http\"), just(\"https\"))),\n",
    "#         'authority': draw(iauthorities),\n",
    "#         'path': draw(paths.filter(lambda p: p.startswith(\"/\"))),\n",
    "#     }\n",
    "#     return rfc3987.compose(**parts)\n",
    "\n",
    "test_limited_domain_generation()"
   ]
  }
 ],
 "metadata": {
  "kernelspec": {
   "display_name": "Python 3",
   "language": "python",
   "name": "python3"
  },
  "language_info": {
   "codemirror_mode": {
    "name": "ipython",
    "version": 3
   },
   "file_extension": ".py",
   "mimetype": "text/x-python",
   "name": "python",
   "nbconvert_exporter": "python",
   "pygments_lexer": "ipython3",
   "version": "3.9.1"
  }
 },
 "nbformat": 4,
 "nbformat_minor": 4
}
