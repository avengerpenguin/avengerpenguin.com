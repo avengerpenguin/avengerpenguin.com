{
 "cells": [
  {
   "cell_type": "markdown",
   "id": "249d578d",
   "metadata": {},
   "source": [
    "In this paper we explore a theoretic model of REST services."
   ]
  },
  {
   "cell_type": "code",
   "execution_count": 1,
   "id": "d493b31d",
   "metadata": {},
   "outputs": [],
   "source": [
    "from typing import cast, Tuple, Set, NewType, Callable, Dict\n",
    "from rdflib import Graph, URIRef\n",
    "from rdflib.term import Node\n",
    "\n",
    "\n",
    "ClientState = Tuple[URIRef, Graph]\n",
    "ServerState = Tuple[Graph]"
   ]
  },
  {
   "cell_type": "code",
   "execution_count": 6,
   "id": "dc588478",
   "metadata": {},
   "outputs": [
    {
     "name": "stdout",
     "output_type": "stream",
     "text": [
      "http://example.org/library\n",
      "\n",
      "{\n",
      "  \"@context\": {\n",
      "    \"dc11\": \"http://purl.org/dc/elements/1.1/\",\n",
      "    \"ex\": \"http://example.org/vocab#\",\n",
      "    \"ex:contains\": {\n",
      "      \"@type\": \"@id\"\n",
      "    },\n",
      "    \"xsd\": \"http://www.w3.org/2001/XMLSchema#\"\n",
      "  },\n",
      "  \"@id\": \"http://example.org/library\",\n",
      "  \"@type\": \"ex:Library\",\n",
      "  \"ex:contains\": \"http://example.org/library/the-republic\"\n",
      "}\n"
     ]
    }
   ],
   "source": [
    "context = {\n",
    "    \"dc11\": \"http://purl.org/dc/elements/1.1/\",\n",
    "    \"ex\": \"http://example.org/vocab#\",\n",
    "    \"xsd\": \"http://www.w3.org/2001/XMLSchema#\",\n",
    "    \"ex:contains\": {\n",
    "      \"@type\": \"@id\"\n",
    "    }\n",
    "  }\n",
    "\n",
    "g1 = Graph()\n",
    "g1.parse(data=\"\"\"\n",
    "{\n",
    "  \"@context\": {\n",
    "    \"dc11\": \"http://purl.org/dc/elements/1.1/\",\n",
    "    \"ex\": \"http://example.org/vocab#\",\n",
    "    \"xsd\": \"http://www.w3.org/2001/XMLSchema#\",\n",
    "    \"ex:contains\": {\n",
    "      \"@type\": \"@id\"\n",
    "    }\n",
    "  },\n",
    "  \"@graph\": [\n",
    "    {\n",
    "      \"@id\": \"http://example.org/library\",\n",
    "      \"@type\": \"ex:Library\",\n",
    "      \"ex:contains\": \"http://example.org/library/the-republic\"\n",
    "    },\n",
    "    {\n",
    "      \"@id\": \"http://example.org/library/the-republic\",\n",
    "      \"@type\": \"ex:Book\",\n",
    "      \"ex:contains\": \"http://example.org/library/the-republic#introduction\",\n",
    "      \"dc11:creator\": \"Plato\",\n",
    "      \"dc11:title\": \"The Republic\"\n",
    "    },\n",
    "    {\n",
    "      \"@id\": \"http://example.org/library/the-republic#introduction\",\n",
    "      \"@type\": \"ex:Chapter\",\n",
    "      \"dc11:description\": \"An introductory chapter on The Republic.\",\n",
    "      \"dc11:title\": \"The Introduction\"\n",
    "    }\n",
    "  ]\n",
    "}\n",
    "\"\"\", format='json-ld')\n",
    "\n",
    "server: ServerState = (g1, )\n",
    "    \n",
    "def σ(g: Graph, uri: URIRef) -> Graph:\n",
    "    g2 = Graph()\n",
    "    for t in g.query(f\"DESCRIBE <{uri}>\"):\n",
    "        g2.add(cast(Tuple[Node, Node, Node], t))\n",
    "    return g2\n",
    "    \n",
    "def GET(ss: ServerState, url: URIRef) -> ClientState:\n",
    "    g, = ss\n",
    "    return url, σ(g, url)\n",
    "\n",
    "def render(cs: ClientState) -> None:\n",
    "    uri, g = cs\n",
    "    print(str(uri) + \"\\n\\n\" + g.serialize(format='json-ld', indent=2, context=context))\n",
    "\n",
    "client = GET(server, URIRef(\"http://example.org/library\"))\n",
    "render(client)"
   ]
  },
  {
   "cell_type": "code",
   "execution_count": 7,
   "id": "f618d835",
   "metadata": {},
   "outputs": [
    {
     "name": "stdout",
     "output_type": "stream",
     "text": [
      "http://example.org/library/the-republic\n",
      "\n",
      "{\n",
      "  \"@context\": {\n",
      "    \"dc11\": \"http://purl.org/dc/elements/1.1/\",\n",
      "    \"ex\": \"http://example.org/vocab#\",\n",
      "    \"ex:contains\": {\n",
      "      \"@type\": \"@id\"\n",
      "    },\n",
      "    \"xsd\": \"http://www.w3.org/2001/XMLSchema#\"\n",
      "  },\n",
      "  \"@id\": \"http://example.org/library/the-republic\",\n",
      "  \"@type\": \"ex:Book\",\n",
      "  \"dc11:creator\": \"Plato\",\n",
      "  \"dc11:title\": \"The Republic\",\n",
      "  \"ex:contains\": \"http://example.org/library/the-republic#introduction\"\n",
      "}\n"
     ]
    }
   ],
   "source": [
    "def LO(g: Graph) -> Dict[str, URIRef]:\n",
    "    return {\n",
    "        p.fragment: o for p, o in g.predicate_objects()\n",
    "        if type(o) == URIRef\n",
    "    }\n",
    "\n",
    "\n",
    "client = GET(server, LO(client[1])['contains'])\n",
    "render(client)"
   ]
  },
  {
   "cell_type": "code",
   "execution_count": 30,
   "id": "52e88d1c",
   "metadata": {},
   "outputs": [
    {
     "name": "stdout",
     "output_type": "stream",
     "text": [
      "http://example.org/library\n",
      "http://example.org/library <class 'rdflib.term.URIRef'> http://example.org/library <class 'str'> False\n",
      "http://www.w3.org/1999/02/22-rdf-syntax-ns#type http://example.org/vocab#Library\n",
      "http://example.org/library <class 'rdflib.term.URIRef'> http://example.org/library <class 'str'> False\n",
      "http://example.org/vocab#contains http://example.org/library/the-republic\n"
     ]
    },
    {
     "data": {
      "text/plain": [
       "defaultdict(set,\n",
       "            {rdflib.term.URIRef('http://www.w3.org/1999/02/22-rdf-syntax-ns#type'): {rdflib.term.URIRef('http://example.org/vocab#Library')},\n",
       "             rdflib.term.URIRef('http://example.org/vocab#contains'): {rdflib.term.URIRef('http://example.org/library/the-republic')}})"
      ]
     },
     "execution_count": 30,
     "metadata": {},
     "output_type": "execute_result"
    }
   ],
   "source": [
    "from collections import defaultdict\n",
    "\n",
    "class Client:\n",
    "    def __init__(self, state: ClientState):\n",
    "        self.state = state\n",
    "        \n",
    "    def __str__(self):\n",
    "        uri, g = self.state\n",
    "        return str(uri) + \"\\n\\n\" + g.serialize(format='json-ld', indent=2, context=context)\n",
    "    \n",
    "    def __repr__(self):\n",
    "        return str(self)\n",
    "    \n",
    "    def LO(self):\n",
    "        uri, g = self.state\n",
    "        links = defaultdict(set)\n",
    "        print(uri)\n",
    "        for s, p, o in g: #.predicate_objects(subject=uri):\n",
    "            print(s, type(s), uri, type(uri), s == uri)\n",
    "            print(p, o)\n",
    "            if type(o) == URIRef:\n",
    "                links[p].add(o)\n",
    "        return links\n",
    "\n",
    "Client(GET(server, URIRef(\"http://example.org/library\")).LO()"
   ]
  }
 ],
 "metadata": {
  "jupytext": {
   "cell_metadata_filter": "all,-hide_output",
   "formats": "ipynb,md",
   "notebook_metadata_filter": "-all"
  },
  "kernelspec": {
   "display_name": "Python 3 (ipykernel)",
   "language": "python",
   "name": "python3"
  },
  "language_info": {
   "codemirror_mode": {
    "name": "ipython",
    "version": 3
   },
   "file_extension": ".py",
   "mimetype": "text/x-python",
   "name": "python",
   "nbconvert_exporter": "python",
   "pygments_lexer": "ipython3",
   "version": "3.11.2"
  }
 },
 "nbformat": 4,
 "nbformat_minor": 5
}
