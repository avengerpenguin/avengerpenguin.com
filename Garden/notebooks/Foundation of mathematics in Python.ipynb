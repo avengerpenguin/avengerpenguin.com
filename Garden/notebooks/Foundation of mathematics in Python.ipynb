{
 "cells": [
  {
   "cell_type": "markdown",
   "metadata": {},
   "source": [
    "This is an exploration of building up Zermelo–Fraenkel set theory as a foundational basis of mathematics, but actually implemented in Python.\n",
    "\n",
    "There is no clear application for any of this other than the challenge of trying to reimplement arithmetic (inefficiently) without being able to use literal numbers.\n",
    "\n",
    "The challenge here is to recreate arithemtic operations such as addition and multiplication and representations of sets of different kinds of numbers using only a \"set\" object in Python. No literal numbers are allowed and we may even try to avoid `lambda` so that we are forced to recreate functions.\n",
    "\n",
    "What we will need to do though is allow the use of `class` to wrap the native Python set and use operator overloading to allow us to define operations of that set as we can justify them from axioms. Part of the reason for this will be the need to represent infinite sets which requires some pairing up of sets and generators.\n",
    "\n",
    "Firstly, we start from a very basic assertion:\n",
    "\n",
    "## Things Exist\n",
    "\n",
    "The most philosophical foundation before we get into what we can be sure exists and is correct is to accept that at least something exists (as in \"I think therefore I am\").\n",
    "\n",
    "If we imagine that it is reasonable to group things together arbitrarily, then it follows we can create some empty grouping we can call the empty set:"
   ]
  },
  {
   "cell_type": "code",
   "execution_count": 6,
   "metadata": {},
   "outputs": [
    {
     "data": {
      "text/plain": [
       "0"
      ]
     },
     "execution_count": 6,
     "metadata": {},
     "output_type": "execute_result"
    }
   ],
   "source": [
    "Ø = frozenset()\n",
    "len(Ø)"
   ]
  },
  {
   "cell_type": "markdown",
   "metadata": {},
   "source": [
    "Note for now we can just use Python's built-in concept of `frozenset` since it has all the properties we want for now (i.e. it's empty).\n",
    "\n",
    "## Axiom of Infinity"
   ]
  },
  {
   "cell_type": "code",
   "execution_count": 10,
   "metadata": {},
   "outputs": [
    {
     "ename": "TypeError",
     "evalue": "super() argument 1 must be type, not frozenset",
     "output_type": "error",
     "traceback": [
      "\u001b[0;31m---------------------------------------------------------------------------\u001b[0m",
      "\u001b[0;31mTypeError\u001b[0m                                 Traceback (most recent call last)",
      "\u001b[0;32m<ipython-input-10-b87c0794fc70>\u001b[0m in \u001b[0;36m<module>\u001b[0;34m\u001b[0m\n\u001b[1;32m      7\u001b[0m             \u001b[0msuper\u001b[0m\u001b[0;34m(\u001b[0m\u001b[0mdefinition\u001b[0m\u001b[0;34m)\u001b[0m\u001b[0;34m\u001b[0m\u001b[0;34m\u001b[0m\u001b[0m\n\u001b[1;32m      8\u001b[0m \u001b[0;34m\u001b[0m\u001b[0m\n\u001b[0;32m----> 9\u001b[0;31m \u001b[0mSet\u001b[0m\u001b[0;34m(\u001b[0m\u001b[0;34m)\u001b[0m\u001b[0;34m\u001b[0m\u001b[0;34m\u001b[0m\u001b[0m\n\u001b[0m",
      "\u001b[0;32m<ipython-input-10-b87c0794fc70>\u001b[0m in \u001b[0;36m__init__\u001b[0;34m(self, definition)\u001b[0m\n\u001b[1;32m      5\u001b[0m         \u001b[0;32melse\u001b[0m\u001b[0;34m:\u001b[0m\u001b[0;34m\u001b[0m\u001b[0;34m\u001b[0m\u001b[0m\n\u001b[1;32m      6\u001b[0m             \u001b[0mself\u001b[0m\u001b[0;34m.\u001b[0m\u001b[0mgen_func\u001b[0m \u001b[0;34m=\u001b[0m \u001b[0;32mNone\u001b[0m\u001b[0;34m\u001b[0m\u001b[0;34m\u001b[0m\u001b[0m\n\u001b[0;32m----> 7\u001b[0;31m             \u001b[0msuper\u001b[0m\u001b[0;34m(\u001b[0m\u001b[0mdefinition\u001b[0m\u001b[0;34m)\u001b[0m\u001b[0;34m\u001b[0m\u001b[0;34m\u001b[0m\u001b[0m\n\u001b[0m\u001b[1;32m      8\u001b[0m \u001b[0;34m\u001b[0m\u001b[0m\n\u001b[1;32m      9\u001b[0m \u001b[0mSet\u001b[0m\u001b[0;34m(\u001b[0m\u001b[0;34m)\u001b[0m\u001b[0;34m\u001b[0m\u001b[0;34m\u001b[0m\u001b[0m\n",
      "\u001b[0;31mTypeError\u001b[0m: super() argument 1 must be type, not frozenset"
     ]
    }
   ],
   "source": [
    "class Set(frozenset):\n",
    "    def __init__(self, definition=frozenset()):\n",
    "        if hasattr(definition, '__call__'):\n",
    "            self.gen_func = definition\n",
    "        else:\n",
    "            self.gen_func = None\n",
    "            super(definition)\n",
    "\n",
    "Set()"
   ]
  },
  {
   "cell_type": "code",
   "execution_count": 1,
   "metadata": {},
   "outputs": [],
   "source": [
    "# # Empty set\n",
    "# 〇 = frozenset()\n",
    "# # pair\n",
    "# 𝕡 = lambda a, b: frozenset({a, b})\n",
    "\n",
    "\n",
    "# 𝑺 = lambda domain, cond: (x for x in domain if cond(x))\n"
   ]
  },
  {
   "cell_type": "code",
   "execution_count": 2,
   "metadata": {},
   "outputs": [
    {
     "ename": "NameError",
     "evalue": "name 'InfSet' is not defined",
     "output_type": "error",
     "traceback": [
      "\u001b[0;31m---------------------------------------------------------------------------\u001b[0m",
      "\u001b[0;31mNameError\u001b[0m                                 Traceback (most recent call last)",
      "\u001b[0;32m<ipython-input-2-305d5cd0c535>\u001b[0m in \u001b[0;36m<module>\u001b[0;34m\u001b[0m\n\u001b[1;32m     57\u001b[0m \u001b[0;34m\u001b[0m\u001b[0m\n\u001b[1;32m     58\u001b[0m \u001b[0;34m\u001b[0m\u001b[0m\n\u001b[0;32m---> 59\u001b[0;31m \u001b[0mℕ\u001b[0m \u001b[0;34m=\u001b[0m \u001b[0mInfSet\u001b[0m\u001b[0;34m(\u001b[0m\u001b[0mNaturals\u001b[0m\u001b[0;34m)\u001b[0m\u001b[0;34m\u001b[0m\u001b[0;34m\u001b[0m\u001b[0m\n\u001b[0m\u001b[1;32m     60\u001b[0m \u001b[0madd\u001b[0m \u001b[0;34m=\u001b[0m \u001b[0;32mlambda\u001b[0m \u001b[0m𝑚\u001b[0m\u001b[0;34m,\u001b[0m \u001b[0m𝑛\u001b[0m\u001b[0;34m:\u001b[0m \u001b[0mSet\u001b[0m\u001b[0;34m(\u001b[0m\u001b[0;32mlambda\u001b[0m\u001b[0;34m:\u001b[0m \u001b[0;34m(\u001b[0m\u001b[0m𝑚\u001b[0m \u001b[0;34m*\u001b[0m \u001b[0;34m{\u001b[0m\u001b[0m〇\u001b[0m\u001b[0;34m}\u001b[0m\u001b[0;34m)\u001b[0m \u001b[0;34m|\u001b[0m \u001b[0;34m(\u001b[0m\u001b[0m𝑛\u001b[0m \u001b[0;34m*\u001b[0m \u001b[0;34m{\u001b[0m\u001b[0msucc\u001b[0m\u001b[0;34m(\u001b[0m\u001b[0m〇\u001b[0m\u001b[0;34m)\u001b[0m\u001b[0;34m}\u001b[0m\u001b[0;34m)\u001b[0m\u001b[0;34m)\u001b[0m\u001b[0;34m\u001b[0m\u001b[0;34m\u001b[0m\u001b[0m\n\u001b[1;32m     61\u001b[0m \u001b[0mset\u001b[0m\u001b[0;34m(\u001b[0m\u001b[0madd\u001b[0m\u001b[0;34m(\u001b[0m\u001b[0m〇\u001b[0m\u001b[0;34m,\u001b[0m \u001b[0m〇\u001b[0m\u001b[0;34m)\u001b[0m\u001b[0;34m)\u001b[0m\u001b[0;34m\u001b[0m\u001b[0;34m\u001b[0m\u001b[0m\n",
      "\u001b[0;31mNameError\u001b[0m: name 'InfSet' is not defined"
     ]
    }
   ],
   "source": [
    "𝕡 = lambda a, b: frozenset({a, b})\n",
    "𝑃 = lambda a, b: 𝕡(𝕡(\"l\", a), 𝕡(\"r\", b))\n",
    "\n",
    "class Set:\n",
    "    def __init__(self, genf=set):\n",
    "        self.genf = genf\n",
    "        self.vals = set()\n",
    "    def __iter__(self):\n",
    "        gen = self.genf()\n",
    "        for n in gen:\n",
    "            if n not in self.vals:\n",
    "                self.vals.add(n)\n",
    "                yield n\n",
    "    def __or__(self, o):\n",
    "        def _gen():\n",
    "            A, B = iter(self), iter(o)\n",
    "            while A and B:\n",
    "                if A:\n",
    "                    try:\n",
    "                        a = next(A)\n",
    "                        yield a\n",
    "                    except StopIteration:\n",
    "                        A = None\n",
    "                if B:\n",
    "                    try:\n",
    "                        b = next(B)\n",
    "                        yield b\n",
    "                    except StopIteration:\n",
    "                        B = None\n",
    "        return Set(_gen)\n",
    "    def __mul__(self, o):\n",
    "        def _gen():\n",
    "            out = set()\n",
    "            A, B = iter(self), iter(o)\n",
    "            while A and B:\n",
    "                try:\n",
    "                    a, b = next(A), next(B)\n",
    "                except StopIteration:\n",
    "                    break\n",
    "                c = 𝑃(a, b)\n",
    "                if c not in out:\n",
    "                    out.add(c)\n",
    "                    yield c\n",
    "        return Set(_gen)\n",
    "                \n",
    "                \n",
    "〇 = Set()\n",
    "succ = lambda n: Set(lambda: {n}) | n\n",
    "\n",
    "class Naturals:\n",
    "    n = None\n",
    "    def __next__(self):\n",
    "        self.n = 〇 if self.n is None else succ(self.n)\n",
    "        return self.n\n",
    "    def __iter__(self):\n",
    "        return self\n",
    "\n",
    "        \n",
    "ℕ = Set(Naturals)\n",
    "add = lambda 𝑚, 𝑛: Set(lambda: (𝑚 * {〇}) | (𝑛 * {succ(〇)}))\n",
    "set(add(〇, 〇))\n"
   ]
  },
  {
   "cell_type": "code",
   "execution_count": null,
   "metadata": {},
   "outputs": [],
   "source": [
    "𝑃 = lambda a, b: 𝕡(𝕡(\"l\", a), 𝕡(\"r\", b))\n",
    "𝑃(\"a\", \"b\")"
   ]
  },
  {
   "cell_type": "code",
   "execution_count": null,
   "metadata": {},
   "outputs": [],
   "source": [
    "left = lambda p: {r for r in {q for q in p if \"l\" in q}.pop() if r != \"l\"}.pop()\n",
    "right = lambda p: {r for r in {q for q in p if \"r\" in q}.pop() if r != 'r'}.pop()\n",
    "left(𝑃(\"a\", \"b\")), right(𝑃(\"a\", \"b\"))"
   ]
  },
  {
   "cell_type": "code",
   "execution_count": null,
   "metadata": {},
   "outputs": [],
   "source": [
    "𝑓 = lambda P: lambda a: next(right(p) for p in P if left(p) == a)\n",
    "succ = 𝑓(𝑃(n, frozenset({n}) | n) for n in ℕ())\n",
    "len(succ(succ(〇)))"
   ]
  },
  {
   "cell_type": "code",
   "execution_count": null,
   "metadata": {},
   "outputs": [],
   "source": [
    "class InfSet:\n",
    "    def __init__(self, genf):\n",
    "        self.genf = genf\n",
    "        self.vals = set()\n",
    "    def __iter__(self):\n",
    "        gen = self.genf()\n",
    "        for n in gen:\n",
    "            if n not in self.vals:\n",
    "                self.vals.add(n)\n",
    "                yield n\n",
    "    def __or__(self, o):\n",
    "        iterators = (iter(self), iter(o))\n",
    "        while iterators:\n",
    "            for v in map(next, iterators):\n",
    "                yield v\n",
    "\n",
    "        \n",
    "ℕ2 = InfSet(ℕ)\n",
    "S = ℕ2 | ℕ2\n",
    "for n in S:\n",
    "    print(len(n))"
   ]
  }
 ],
 "metadata": {
  "kernelspec": {
   "display_name": "Python 3",
   "language": "python",
   "name": "python3"
  },
  "language_info": {
   "codemirror_mode": {
    "name": "ipython",
    "version": 3
   },
   "file_extension": ".py",
   "mimetype": "text/x-python",
   "name": "python",
   "nbconvert_exporter": "python",
   "pygments_lexer": "ipython3",
   "version": "3.9.13"
  }
 },
 "nbformat": 4,
 "nbformat_minor": 4
}
