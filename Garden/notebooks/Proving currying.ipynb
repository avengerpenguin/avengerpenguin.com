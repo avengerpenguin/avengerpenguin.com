{
 "cells": [
  {
   "cell_type": "markdown",
   "id": "26f56c2f",
   "metadata": {},
   "source": [
    "Showing equivalence between the forms:\n",
    "\n",
    "```\n",
    "f: (a, b) -> c\n",
    "g: a -> b -> c\n",
    "```"
   ]
  },
  {
   "cell_type": "markdown",
   "id": "13841383",
   "metadata": {},
   "source": [
    "```coq\n",
    "Require Import Coq.Init.Datatypes.\n",
    "\n",
    "Parameters A B C : Set.\n",
    "\n",
    "Definition curry (f:  A * B -> C) := fun a => fun b => f (a, b).\n",
    "Definition uncurry (g: A -> B -> C) := fun p => g (fst p) (snd p).\n",
    "```"
   ]
  },
  {
   "cell_type": "markdown",
   "id": "3372b62b",
   "metadata": {},
   "source": [
    "```coq\n",
    "Theorem inv : forall f a b, uncurry (curry f) (a,b) = f(a,b).\n",
    "Proof.\n",
    "  intros.\n",
    "  unfold curry, uncurry.\n",
    "  simpl.\n",
    "  reflexivity.\n",
    "Qed.\n",
    "```"
   ]
  },
  {
   "cell_type": "markdown",
   "id": "0731cbe4",
   "metadata": {},
   "source": [
    "```coq\n",
    "Theorem inv2 : forall g a b, curry (uncurry g) a b = g a b.\n",
    "Proof.\n",
    "  intros.\n",
    "  unfold curry, uncurry.\n",
    "  simpl.\n",
    "  reflexivity.\n",
    "Qed.\n",
    "```"
   ]
  }
 ],
 "metadata": {
  "jupytext": {
   "cell_metadata_filter": "all",
   "notebook_metadata_filter": "all"
  },
  "kernelspec": {
   "display_name": "Coq",
   "language": "coq",
   "name": "coq"
  },
  "language_info": {
   "file_extension": ".v",
   "mimetype": "text/x-coq",
   "name": "coq",
   "version": "8.16.1"
  }
 },
 "nbformat": 4,
 "nbformat_minor": 5
}
