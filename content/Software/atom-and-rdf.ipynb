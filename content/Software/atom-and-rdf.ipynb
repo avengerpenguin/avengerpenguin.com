{
 "cells": [
  {
   "cell_type": "markdown",
   "metadata": {},
   "source": []
  },
  {
   "cell_type": "code",
   "execution_count": 1,
   "metadata": {},
   "outputs": [],
   "source": [
    "atom_string = \"\"\"<?xml version=\"1.0\" encoding=\"utf-8\"?>\n",
    "\n",
    "<feed xmlns=\"http://www.w3.org/2005/Atom\">\n",
    "\n",
    "\t<title>Example Feed</title>\n",
    "\t<subtitle>A subtitle.</subtitle>\n",
    "\t<id>urn:uuid:60a76c80-d399-11d9-b91C-0003939e0af6</id>\n",
    "\t<updated>2003-12-13T18:30:02Z</updated>\n",
    "\t\n",
    "\t<entry>\n",
    "\t\t<title>Atom-Powered Robots Run Amok</title>\n",
    "\t\t<link rel=\"about\" href=\"http://dbpedia.org/resource/Kumquat\"/>\n",
    "\t\t<id>urn:uuid:1225c695-cfb8-4ebb-aaaa-80da344efa6a</id>\n",
    "\t\t<updated>2003-12-13T18:30:02Z</updated>\n",
    "\t\t<summary>Some text.</summary>\n",
    "\t\t<content type=\"xhtml\">\n",
    "\t\t\t<div xmlns=\"http://www.w3.org/1999/xhtml\">\n",
    "\t\t\t\t<p>This is the entry content.</p>\n",
    "\t\t\t</div>\n",
    "\t\t</content>\n",
    "\t\t<author>\n",
    "\t\t\t<name>Ross Fenning</name>\n",
    "\t\t\t<uri>http://rossfenning.co.uk/</uri>\n",
    "\t\t</author>\n",
    "\t</entry>\n",
    "\n",
    "</feed>\"\"\"\n",
    "\n",
    "import feedparser\n",
    "feed = feedparser.parse(atom_string)"
   ]
  },
  {
   "cell_type": "code",
   "execution_count": 2,
   "metadata": {},
   "outputs": [],
   "source": [
    "from rdflib import Graph, URIRef, Namespace, Literal, BNode\n",
    "ATOM = Namespace('http://www.w3.org/2005/Atom/')\n",
    "\n",
    "\n",
    "def atom2rdf(atom_feed):\n",
    "    g = Graph()\n",
    "    g.bind('atom', ATOM)\n",
    "\n",
    "    for entry in atom_feed.entries:\n",
    "        subject = URIRef(entry.id)\n",
    "        g.add((subject, ATOM.title, Literal(entry.title)))\n",
    "        g.add((subject, ATOM.summary, Literal(entry.summary)))\n",
    "\n",
    "        for author in entry.authors:\n",
    "            a = BNode()\n",
    "            g.add((subject, ATOM.author, a))\n",
    "            print(author)\n",
    "            for prop in ['name', 'email']:\n",
    "                if prop in author:\n",
    "                    g.add((a, getattr(ATOM, prop), Literal(author[prop])))\n",
    "            if 'href' in author:\n",
    "                g.add((a, ATOM.url, URIRef(author.href)))\n",
    "\n",
    "#         for link in entry.links:\n",
    "#             print(link)\n",
    "#             g.add((subject, link.rel, link.href))\n",
    "            \n",
    "    return g\n",
    "    "
   ]
  },
  {
   "cell_type": "code",
   "execution_count": 3,
   "metadata": {},
   "outputs": [
    {
     "name": "stdout",
     "output_type": "stream",
     "text": [
      "{'name': 'Ross Fenning', 'href': 'http://rossfenning.co.uk/'}\n",
      "@prefix atom: <http://www.w3.org/2005/Atom/> .\n",
      "@prefix rdf: <http://www.w3.org/1999/02/22-rdf-syntax-ns#> .\n",
      "@prefix rdfs: <http://www.w3.org/2000/01/rdf-schema#> .\n",
      "@prefix xml: <http://www.w3.org/XML/1998/namespace> .\n",
      "@prefix xsd: <http://www.w3.org/2001/XMLSchema#> .\n",
      "\n",
      "<urn:uuid:1225c695-cfb8-4ebb-aaaa-80da344efa6a> atom:author [ atom:name \"Ross Fenning\" ;\n",
      "            atom:url <http://rossfenning.co.uk/> ] ;\n",
      "    atom:summary \"Some text.\" ;\n",
      "    atom:title \"Atom-Powered Robots Run Amok\" .\n",
      "\n",
      "\n"
     ]
    }
   ],
   "source": [
    "    \n",
    "rdf_graph = atom2rdf(feed)\n",
    "    \n",
    "print(rdf_graph.serialize(format='turtle').decode('utf-8'))"
   ]
  },
  {
   "cell_type": "code",
   "execution_count": 4,
   "metadata": {},
   "outputs": [
    {
     "name": "stdout",
     "output_type": "stream",
     "text": [
      "@prefix foaf: <http://xmlns.com/foaf/0.1/> .\n",
      "@prefix rdf: <http://www.w3.org/1999/02/22-rdf-syntax-ns#> .\n",
      "@prefix rdfs: <http://www.w3.org/2000/01/rdf-schema#> .\n",
      "@prefix xml: <http://www.w3.org/XML/1998/namespace> .\n",
      "@prefix xsd: <http://www.w3.org/2001/XMLSchema#> .\n",
      "\n",
      "<http://rossfenning.co.uk/> a foaf:Person ;\n",
      "    foaf:interest <http://dbpedia.org/resource/Linked_Data>,\n",
      "        <http://dbpedia.org/resource/Python>,\n",
      "        <http://dbpedia.org/resource/Wine> ;\n",
      "    foaf:name \"Ross Fenning\" .\n",
      "\n",
      "\n"
     ]
    }
   ],
   "source": [
    "foaf_string = '''\n",
    "@prefix rdf: <http://www.w3.org/1999/02/22-rdf-syntax-ns#> .\n",
    "@prefix rdfs: <http://www.w3.org/2000/01/rdf-schema#> .\n",
    "@prefix foaf: <http://xmlns.com/foaf/0.1/> .\n",
    "\n",
    "<http://rossfenning.co.uk/>\n",
    "    a foaf:Person ;\n",
    "    foaf:name \"Ross Fenning\" ;\n",
    "    foaf:interest <http://dbpedia.org/resource/Linked_Data> ;\n",
    "    foaf:interest <http://dbpedia.org/resource/Wine> ;\n",
    "    foaf:interest <http://dbpedia.org/resource/Python> .\n",
    "'''\n",
    "\n",
    "another_rdf_graph = Graph()\n",
    "another_rdf_graph.parse(data=foaf_string, format='turtle')\n",
    "print(another_rdf_graph.serialize(format='turtle').decode('utf-8'))"
   ]
  },
  {
   "cell_type": "code",
   "execution_count": 5,
   "metadata": {},
   "outputs": [
    {
     "name": "stdout",
     "output_type": "stream",
     "text": [
      "@prefix atom: <http://www.w3.org/2005/Atom/> .\n",
      "@prefix foaf: <http://xmlns.com/foaf/0.1/> .\n",
      "@prefix rdf: <http://www.w3.org/1999/02/22-rdf-syntax-ns#> .\n",
      "@prefix rdfs: <http://www.w3.org/2000/01/rdf-schema#> .\n",
      "@prefix xml: <http://www.w3.org/XML/1998/namespace> .\n",
      "@prefix xsd: <http://www.w3.org/2001/XMLSchema#> .\n",
      "\n",
      "<urn:uuid:1225c695-cfb8-4ebb-aaaa-80da344efa6a> atom:author [ atom:name \"Ross Fenning\" ;\n",
      "            atom:url <http://rossfenning.co.uk/> ] ;\n",
      "    atom:summary \"Some text.\" ;\n",
      "    atom:title \"Atom-Powered Robots Run Amok\" .\n",
      "\n",
      "<http://rossfenning.co.uk/> a foaf:Person ;\n",
      "    foaf:interest <http://dbpedia.org/resource/Linked_Data>,\n",
      "        <http://dbpedia.org/resource/Python>,\n",
      "        <http://dbpedia.org/resource/Wine> ;\n",
      "    foaf:name \"Ross Fenning\" .\n",
      "\n",
      "\n"
     ]
    }
   ],
   "source": [
    "combined_graph = rdf_graph + another_rdf_graph\n",
    "\n",
    "print(combined_graph.serialize(format='turtle').decode('utf-8'))"
   ]
  },
  {
   "cell_type": "code",
   "execution_count": 7,
   "metadata": {},
   "outputs": [
    {
     "ename": "ModuleNotFoundError",
     "evalue": "No module named 'FuXi'",
     "traceback": [
      "\u001b[0;31m---------------------------------------------------------------------------\u001b[0m",
      "\u001b[0;31mModuleNotFoundError\u001b[0m                       Traceback (most recent call last)",
      "\u001b[0;32m<ipython-input-7-c030625e3eb3>\u001b[0m in \u001b[0;36m<module>\u001b[0;34m()\u001b[0m\n\u001b[0;32m----> 1\u001b[0;31m \u001b[0;32mfrom\u001b[0m \u001b[0mFuXi\u001b[0m\u001b[0;34m.\u001b[0m\u001b[0mRete\u001b[0m\u001b[0;34m.\u001b[0m\u001b[0mRuleStore\u001b[0m \u001b[0;32mimport\u001b[0m \u001b[0mRuleStore\u001b[0m\u001b[0;34m,\u001b[0m \u001b[0mSetupRuleStore\u001b[0m\u001b[0;34m\u001b[0m\u001b[0m\n\u001b[0m\u001b[1;32m      2\u001b[0m \u001b[0;34m\u001b[0m\u001b[0m\n\u001b[1;32m      3\u001b[0m \u001b[0;34m\u001b[0m\u001b[0m\n\u001b[1;32m      4\u001b[0m \u001b[0;32mdef\u001b[0m \u001b[0menrich\u001b[0m\u001b[0;34m(\u001b[0m\u001b[0mgraph\u001b[0m\u001b[0;34m,\u001b[0m \u001b[0mrules\u001b[0m\u001b[0;34m)\u001b[0m\u001b[0;34m:\u001b[0m\u001b[0;34m\u001b[0m\u001b[0m\n\u001b[1;32m      5\u001b[0m     \u001b[0mrule_store\u001b[0m\u001b[0;34m,\u001b[0m \u001b[0mrule_graph\u001b[0m\u001b[0;34m,\u001b[0m \u001b[0mnetwork\u001b[0m \u001b[0;34m=\u001b[0m \u001b[0mSetupRuleStore\u001b[0m\u001b[0;34m(\u001b[0m\u001b[0mmakeNetwork\u001b[0m\u001b[0;34m=\u001b[0m\u001b[0;32mTrue\u001b[0m\u001b[0;34m)\u001b[0m\u001b[0;34m\u001b[0m\u001b[0m\n",
      "\u001b[0;31mModuleNotFoundError\u001b[0m: No module named 'FuXi'"
     ],
     "output_type": "error"
    }
   ],
   "source": [
    "from FuXi.Rete.RuleStore import RuleStore, SetupRuleStore\n",
    "\n",
    "\n",
    "def enrich(graph, rules):\n",
    "    rule_store, rule_graph, network = SetupRuleStore(makeNetwork=True)\n",
    "    closure_delta = Graph()\n",
    "\n",
    "    network.inferredFacts = closure_delta\n",
    "\n",
    "    for rule in rules:\n",
    "        network.buildNetworkFromClause(rule)\n",
    "\n",
    "    network.feedFactsToAdd(generateTokenSet(graph))\n",
    "    return graph + closure_delta\n",
    "\n",
    "rule_store = N3RuleStore()\n",
    "namespace_manager = NamespaceManager(Graph(rule_store))\n",
    "rule_graph = Graph(rule_store, namespace_manager=namespace_manager)\n",
    "rule_graph.parse(format='n3', data='''\n",
    "@prefix atom: <http://www.w3.org/2005/Atom/> .\n",
    "@prefix foaf: <http://xmlns.com/foaf/0.1/> .\n",
    "\n",
    "{\n",
    "?entry atom:author ?author .\n",
    "?author atom:url ?url .\n",
    "?author atom:name ?name .\n",
    "?url a foaf:Person .\n",
    "} => {\n",
    "?entry atom\n",
    "}\n",
    "\n",
    "''')\n"
   ]
  }
 ],
 "metadata": {
  "date": "2018-12-03",
  "kernelspec": {
   "display_name": "Python 3",
   "language": "python",
   "name": "python3"
  },
  "language_info": {
   "codemirror_mode": {
    "name": "ipython",
    "version": 3
   },
   "file_extension": ".py",
   "mimetype": "text/x-python",
   "name": "python",
   "nbconvert_exporter": "python",
   "pygments_lexer": "ipython3",
   "version": "3.6.5"
  },
  "title": "Atom and RDF"
 },
 "nbformat": 4,
 "nbformat_minor": 2
}
