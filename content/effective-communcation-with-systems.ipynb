{
 "cells": [
  {
   "cell_type": "markdown",
   "metadata": {},
   "source": [
    "Communicating complex ideas can be difficult. If you work in any highly-specialised field, you inevitibly will have to present or describe your work or knowledge to those that know less about the field at some point. And it can be challenging.\n",
    "\n",
    "Clearly, if you cover your ideas in too much detail\n",
    "\n",
    "In _Systems Theory_, we use the term _system_ to refer to any cohesive set of smaller parts that also has properties as a whole.\n",
    "\n",
    "A classic example is that of the biological sciences where we can describe an organ as a _system_ of cells or an organism a _system_ of organs. In the \"Systems\" approach, we can talk about attributes of the whole (holism) without need to describe everything in terms of its smaller parts (reductionism). In the biological example, we can describe the emergent properties of organs or organisms without having to explain how each individual component leads to those properties."
   ]
  },
  {
   "cell_type": "code",
   "execution_count": null,
   "metadata": {},
   "outputs": [],
   "source": []
  }
 ],
 "metadata": {
  "date": "2018-05-21",
  "kernelspec": {
   "display_name": "Python 3",
   "language": "python",
   "name": "python3"
  },
  "language_info": {
   "codemirror_mode": {
    "name": "ipython",
    "version": 3
   },
   "file_extension": ".py",
   "mimetype": "text/x-python",
   "name": "python",
   "nbconvert_exporter": "python",
   "pygments_lexer": "ipython3",
   "version": "3.6.0"
  },
  "tags": "Systems",
  "title": "Effective Communication with Systems"
 },
 "nbformat": 4,
 "nbformat_minor": 2
}
